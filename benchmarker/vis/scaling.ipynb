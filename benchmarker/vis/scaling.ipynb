{
 "cells": [
  {
   "cell_type": "code",
   "execution_count": null,
   "metadata": {},
   "outputs": [],
   "source": [
    "%load_ext autoreload\n",
    "%autoreload 2\n",
    "import builtins\n",
    "from IPython.lib import deepreload\n",
    "builtins.reload = deepreload.reload\n",
    "import itertools\n",
    "import os\n",
    "import helpers\n",
    "from helpers import read_df_from_dir, filter_by\n",
    "import matplotlib as mpl\n",
    "from matplotlib import pyplot as plt\n",
    "%matplotlib inline\n",
    "#print(mpl.style.available)\n",
    "mpl.style.use(\"bmh\")\n"
   ]
  },
  {
   "cell_type": "code",
   "execution_count": null,
   "metadata": {},
   "outputs": [],
   "source": [
    "path=\"../logs/scaling/\""
   ]
  },
  {
   "cell_type": "code",
   "execution_count": null,
   "metadata": {},
   "outputs": [],
   "source": [
    "df = read_df_from_dir(path)\n",
    "df.sort_values(by=[\"nb_gpus\"],inplace=True)\n",
    "#df"
   ]
  },
  {
   "cell_type": "code",
   "execution_count": null,
   "metadata": {},
   "outputs": [],
   "source": [
    "#df_plot=df_filtered.groupby([key],as_index=False).mean()\n",
    "#filters={\"problem\":\"conv2d_2\"}\n",
    "#key_secondary=\"framework\"\n",
    "\n",
    "#df = filter_by(df,filters)\n",
    "#df=df_filtered.groupby([key,\"framework\"],as_index=False).mean()\n",
    "#df"
   ]
  },
  {
   "cell_type": "code",
   "execution_count": null,
   "metadata": {},
   "outputs": [],
   "source": [
    "mpl.rcParams[\"figure.figsize\"] = 8,4\n",
    "key=\"nb_gpus\"\n",
    "\n",
    "keys_third_order = [\"device\",\"problem\"]\n",
    "uniques = [df[key].unique() for key in keys_third_order]\n",
    "uniques_all = itertools.product(*uniques)\n",
    "filters_all = [dict(zip(keys_third_order, values)) for values in uniques_all]\n",
    "\n",
    "for filters in filters_all:\n",
    "    \n",
    "\n",
    "#for problem in df[\"problem\"].unique():\n",
    "    df_pre = filter_by(df,filters)\n",
    "    if df_pre.shape[0]==0:\n",
    "        continue\n",
    "    fig = plt.figure()\n",
    "    ax = fig.add_subplot(1,1,1,facecolor='white')\n",
    "\n",
    "    for framework in df[\"framework\"].unique():\n",
    "        filters2={}\n",
    "        filters2[\"framework\"]=framework\n",
    " #       filters={\"framework\":framework,\"problem\":problem}\n",
    "  #      filters={\"framework\":framework,\"problem\":problem}\n",
    "        #print(filters)\n",
    "        df_filtered = filter_by(df_pre,filters2)\n",
    "        df_plot = df_filtered.groupby([key],as_index=False).mean()\n",
    "        yerror = df_filtered.groupby([key],as_index=False)[\"time\"].std().fillna(0)\n",
    "        if df_plot.shape[0] > 0:\n",
    "            df_plot.plot(x=\"nb_gpus\",y=\"time\", yerr = yerror, ax=ax, label=framework, linewidth=3)\n",
    "            #plt.errorbar(x, y, xerr=0.2, yerr=0.4)\n",
    "    ax.set_xlabel(\"number of gpus\",size=18)\n",
    "    ax.set_ylabel(\"epoch time, s\",size=18)\n",
    "    ax.set_xticks(df[\"nb_gpus\"])\n",
    "    title = \", \".join(filters.values())\n",
    "    plt.title(title)\n",
    "    plt.savefig(os.path.join(\"./plots/scaling\",title+\".svg\"),bbox_inches=\"tight\",transparent=True)\n",
    "    plt.show()\n",
    "    \n",
    "None\n",
    "\n",
    "\n",
    "#for problem in df[\"problem\"].unique():\n",
    "    #render(key=\"framework\",filters={\"device\":\"E5-2699\",\"problem\":problem},color=\"dodgerblue\")\n",
    " #   render(key=\"framework\",filters={\"device\":\"P100-PCIE\",\"problem\":problem},color=\"yellowgreen\")\n"
   ]
  },
  {
   "cell_type": "code",
   "execution_count": null,
   "metadata": {},
   "outputs": [],
   "source": []
  },
  {
   "cell_type": "code",
   "execution_count": null,
   "metadata": {},
   "outputs": [],
   "source": []
  },
  {
   "cell_type": "code",
   "execution_count": null,
   "metadata": {},
   "outputs": [],
   "source": []
  },
  {
   "cell_type": "code",
   "execution_count": null,
   "metadata": {},
   "outputs": [],
   "source": []
  },
  {
   "cell_type": "code",
   "execution_count": null,
   "metadata": {},
   "outputs": [],
   "source": []
  },
  {
   "cell_type": "code",
   "execution_count": null,
   "metadata": {},
   "outputs": [],
   "source": []
  },
  {
   "cell_type": "code",
   "execution_count": null,
   "metadata": {},
   "outputs": [],
   "source": []
  },
  {
   "cell_type": "code",
   "execution_count": null,
   "metadata": {},
   "outputs": [],
   "source": []
  },
  {
   "cell_type": "code",
   "execution_count": null,
   "metadata": {},
   "outputs": [],
   "source": []
  },
  {
   "cell_type": "code",
   "execution_count": null,
   "metadata": {},
   "outputs": [],
   "source": []
  },
  {
   "cell_type": "code",
   "execution_count": null,
   "metadata": {},
   "outputs": [],
   "source": []
  },
  {
   "cell_type": "code",
   "execution_count": null,
   "metadata": {},
   "outputs": [],
   "source": []
  },
  {
   "cell_type": "code",
   "execution_count": null,
   "metadata": {},
   "outputs": [],
   "source": []
  },
  {
   "cell_type": "code",
   "execution_count": null,
   "metadata": {},
   "outputs": [],
   "source": []
  },
  {
   "cell_type": "code",
   "execution_count": null,
   "metadata": {},
   "outputs": [],
   "source": []
  },
  {
   "cell_type": "code",
   "execution_count": null,
   "metadata": {},
   "outputs": [],
   "source": []
  },
  {
   "cell_type": "code",
   "execution_count": null,
   "metadata": {},
   "outputs": [],
   "source": []
  },
  {
   "cell_type": "code",
   "execution_count": null,
   "metadata": {},
   "outputs": [],
   "source": []
  }
 ],
 "metadata": {
  "kernelspec": {
   "display_name": "Python 3 (ipykernel)",
   "language": "python",
   "name": "python3"
  },
  "language_info": {
   "codemirror_mode": {
    "name": "ipython",
    "version": 3
   },
   "file_extension": ".py",
   "mimetype": "text/x-python",
   "name": "python",
   "nbconvert_exporter": "python",
   "pygments_lexer": "ipython3",
   "version": "3.10.6"
  }
 },
 "nbformat": 4,
 "nbformat_minor": 2
}
